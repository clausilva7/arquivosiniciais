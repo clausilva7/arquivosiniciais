{
  "nbformat": 4,
  "nbformat_minor": 0,
  "metadata": {
    "colab": {
      "provenance": [],
      "mount_file_id": "1_Pp0E6-7fHR8N7j2fngBgUK_zhJJC0ka",
      "authorship_tag": "ABX9TyMuChPORHSzxhBpPvHar0UQ",
      "include_colab_link": true
    },
    "kernelspec": {
      "name": "python3",
      "display_name": "Python 3"
    },
    "language_info": {
      "name": "python"
    }
  },
  "cells": [
    {
      "cell_type": "markdown",
      "metadata": {
        "id": "view-in-github",
        "colab_type": "text"
      },
      "source": [
        "<a href=\"https://colab.research.google.com/github/clausilva7/arquivosiniciais/blob/main/Condicionais_%2B_repet2.ipynb\" target=\"_parent\"><img src=\"https://colab.research.google.com/assets/colab-badge.svg\" alt=\"Open In Colab\"/></a>"
      ]
    },
    {
      "cell_type": "code",
      "source": [
        "idade = int(input('Qual é a sua idade'))\n",
        "nome1 = input('Qual é o seu nome')\n",
        "\n",
        "if idade >= 18:\n",
        "  print('Pode comprar')\n",
        "\n",
        "else:\n",
        "  print('Não pode comprar')\n",
        "\n",
        "print('Fim do Programa')\n",
        "\n"
      ],
      "metadata": {
        "colab": {
          "base_uri": "https://localhost:8080/"
        },
        "id": "hurBopvqm15o",
        "outputId": "8d67197c-b2d3-4bb6-a608-1aedc003fc70"
      },
      "execution_count": null,
      "outputs": [
        {
          "output_type": "stream",
          "name": "stdout",
          "text": [
            "Qual é a sua idade29\n",
            "Qual é o seu nomeKarla\n",
            "Pode comprar\n",
            "Fim do Programa\n"
          ]
        }
      ]
    },
    {
      "cell_type": "code",
      "source": [],
      "metadata": {
        "id": "5_SU76FArCbe"
      },
      "execution_count": null,
      "outputs": []
    },
    {
      "cell_type": "code",
      "source": [
        "for i in range (1,6):\n",
        "  print('i = {} Ler a página'.format(i))\n",
        "print('Fim')"
      ],
      "metadata": {
        "colab": {
          "base_uri": "https://localhost:8080/"
        },
        "id": "1JGwBJZdrMsk",
        "outputId": "3609e782-62dc-47f6-9183-09125c351cf2"
      },
      "execution_count": null,
      "outputs": [
        {
          "output_type": "stream",
          "name": "stdout",
          "text": [
            "i = 1 Ler a página\n",
            "i = 2 Ler a página\n",
            "i = 3 Ler a página\n",
            "i = 4 Ler a página\n",
            "i = 5 Ler a página\n",
            "Fim\n"
          ]
        }
      ]
    },
    {
      "cell_type": "code",
      "source": [
        "soma = 0\n",
        "for i in range(1,9 + 1,2):\n",
        "  soma = soma + i\n",
        "  print('i = {} e soma = {}'.format(i,soma))\n",
        "  print('soma = {}'.format(soma))"
      ],
      "metadata": {
        "colab": {
          "base_uri": "https://localhost:8080/"
        },
        "id": "uFAqx11B1uI8",
        "outputId": "2757219e-e45e-4b52-ac56-116f3b11587b"
      },
      "execution_count": null,
      "outputs": [
        {
          "output_type": "stream",
          "name": "stdout",
          "text": [
            "i = 1 e soma = 1\n",
            "soma = 1\n",
            "i = 3 e soma = 4\n",
            "soma = 4\n",
            "i = 5 e soma = 9\n",
            "soma = 9\n",
            "i = 7 e soma = 16\n",
            "soma = 16\n",
            "i = 9 e soma = 25\n",
            "soma = 25\n"
          ]
        }
      ]
    },
    {
      "cell_type": "code",
      "source": [
        "#definindo o passo\n",
        "\n",
        "passo = range(1,5+1)\n",
        "\n",
        "#usando o for\n",
        "\n",
        "for i in passo:\n",
        "  print('i = {} - Olá'.format(i))\n",
        "\n",
        "  "
      ],
      "metadata": {
        "id": "6zxtakAb5oDF",
        "colab": {
          "base_uri": "https://localhost:8080/"
        },
        "outputId": "919c6911-74c0-4af4-fb93-beca8ba9752c"
      },
      "execution_count": null,
      "outputs": [
        {
          "output_type": "stream",
          "name": "stdout",
          "text": [
            "i = 1 - Olá\n",
            "i = 2 - Olá\n",
            "i = 3 - Olá\n",
            "i = 4 - Olá\n",
            "i = 5 - Olá\n"
          ]
        }
      ]
    },
    {
      "cell_type": "code",
      "source": [
        "passo = range(1,20+1)\n",
        "for i in passo:\n",
        "  print('leia a pag {}'.format(i))\n",
        "print('Fim')"
      ],
      "metadata": {
        "colab": {
          "base_uri": "https://localhost:8080/"
        },
        "id": "H5gP-0XWWo_r",
        "outputId": "d4f97661-ba77-4f67-e03a-10c68544d712"
      },
      "execution_count": null,
      "outputs": [
        {
          "output_type": "stream",
          "name": "stdout",
          "text": [
            "leia a pag 1\n",
            "leia a pag 2\n",
            "leia a pag 3\n",
            "leia a pag 4\n",
            "leia a pag 5\n",
            "leia a pag 6\n",
            "leia a pag 7\n",
            "leia a pag 8\n",
            "leia a pag 9\n",
            "leia a pag 10\n",
            "leia a pag 11\n",
            "leia a pag 12\n",
            "leia a pag 13\n",
            "leia a pag 14\n",
            "leia a pag 15\n",
            "leia a pag 16\n",
            "leia a pag 17\n",
            "leia a pag 18\n",
            "leia a pag 19\n",
            "leia a pag 20\n",
            "Fim\n"
          ]
        }
      ]
    },
    {
      "cell_type": "code",
      "source": [
        "\n",
        "soma = 0\n",
        "passo = range(1,5+1)\n",
        "for i in passo:\n",
        "  n = int(input('Digite um valor:'))\n",
        "  soma = soma + n\n",
        "print('A soma total é de: {}'.format(soma))"
      ],
      "metadata": {
        "id": "7H8cFYa-XVSA",
        "colab": {
          "base_uri": "https://localhost:8080/"
        },
        "outputId": "143dc3dc-a833-46eb-b047-a226234e1800"
      },
      "execution_count": null,
      "outputs": [
        {
          "output_type": "stream",
          "name": "stdout",
          "text": [
            "Digite um valor:2\n",
            "Digite um valor:4\n",
            "Digite um valor:3\n",
            "Digite um valor:1\n",
            "Digite um valor:1\n",
            "A soma total é de: 11\n"
          ]
        }
      ]
    },
    {
      "cell_type": "code",
      "source": [
        "passo = range(0,10,2)\n",
        "for i in passo:\n",
        "  print(i)\n",
        "print('Fim')"
      ],
      "metadata": {
        "colab": {
          "base_uri": "https://localhost:8080/"
        },
        "id": "3K7cVzXyYvwr",
        "outputId": "3887b17f-ea88-46e3-95dc-7e1af9072b34"
      },
      "execution_count": null,
      "outputs": [
        {
          "output_type": "stream",
          "name": "stdout",
          "text": [
            "0\n",
            "2\n",
            "4\n",
            "6\n",
            "8\n",
            "Fim\n"
          ]
        }
      ]
    },
    {
      "cell_type": "code",
      "source": [
        "passo = range(10,0,-1)\n",
        "for i in passo:\n",
        "  print(i)\n",
        "print('FIM')"
      ],
      "metadata": {
        "colab": {
          "base_uri": "https://localhost:8080/"
        },
        "id": "imTTuOw5Yv0g",
        "outputId": "94efe9ae-1c14-4cfa-84fd-c2b09fdf1196"
      },
      "execution_count": null,
      "outputs": [
        {
          "output_type": "stream",
          "name": "stdout",
          "text": [
            "10\n",
            "9\n",
            "8\n",
            "7\n",
            "6\n",
            "5\n",
            "4\n",
            "3\n",
            "2\n",
            "1\n",
            "FIM\n"
          ]
        }
      ]
    },
    {
      "cell_type": "code",
      "source": [
        "passo = range(1,9+1,2)\n",
        "soma = 0\n",
        "\n",
        "for i in passo:\n",
        "  soma = soma + i\n",
        "  print('i = {}, soma = {}'.format(i,soma))\n",
        "print(soma)\n",
        "\n",
        "\n"
      ],
      "metadata": {
        "colab": {
          "base_uri": "https://localhost:8080/"
        },
        "id": "GAjcpmNPaEMp",
        "outputId": "8bd59dbd-b30a-416f-8f3d-d5f2627e3a37"
      },
      "execution_count": null,
      "outputs": [
        {
          "output_type": "stream",
          "name": "stdout",
          "text": [
            "i = 1, soma = 1\n",
            "i = 3, soma = 4\n",
            "i = 5, soma = 9\n",
            "i = 7, soma = 16\n",
            "i = 9, soma = 25\n",
            "25\n"
          ]
        }
      ]
    },
    {
      "cell_type": "code",
      "source": [
        "soma = 1\n",
        "passo = range (1, 10 +5)\n",
        "\n",
        "for i in passo:\n",
        "    soma += 10\n",
        "print(soma)"
      ],
      "metadata": {
        "colab": {
          "base_uri": "https://localhost:8080/"
        },
        "id": "CkWjU1-1b_5k",
        "outputId": "d70fbfb6-89b4-479c-df3c-cc3723f63d0e"
      },
      "execution_count": null,
      "outputs": [
        {
          "output_type": "stream",
          "name": "stdout",
          "text": [
            "141\n"
          ]
        }
      ]
    },
    {
      "cell_type": "code",
      "source": [
        "qtde = int(input('Quantos numeros vc quer tirar a média? '))\n",
        "passo = range(1, qtde + 1)\n",
        "soma = 0\n",
        "\n",
        "for i in passo:\n",
        "  n = float(input('Digite o {}º numero:'.format(i)))\n",
        "  soma += n\n",
        "media = soma / i\n",
        "print('A media deu de:{:1f} '.format(media))\n",
        "\n"
      ],
      "metadata": {
        "colab": {
          "base_uri": "https://localhost:8080/"
        },
        "id": "EoptCUSeeBRY",
        "outputId": "31d45724-0f24-4a21-e202-a4f69c81589b"
      },
      "execution_count": null,
      "outputs": [
        {
          "output_type": "stream",
          "name": "stdout",
          "text": [
            "Quantos numeros vc quer tirar a média? 3\n",
            "Digite o 1º numero:4\n",
            "Digite o 2º numero:5\n",
            "Digite o 3º numero:5\n",
            "A media deu de:4.666667 \n"
          ]
        }
      ]
    }
  ]
}